{
 "metadata": {
  "name": "",
  "signature": "sha256:89d78db9e5fa081c5c4ae093f96f7fb2768737d773f3cf825fa84abe692089b4"
 },
 "nbformat": 3,
 "nbformat_minor": 0,
 "worksheets": [
  {
   "cells": [
    {
     "cell_type": "code",
     "collapsed": false,
     "input": [
      "%pylab inline\n",
      "from math import sqrt\n",
      "from pymongo import MongoClient\n",
      "from bson import json_util\n",
      "from bson.objectid import ObjectId\n",
      "import pylab\n",
      "g_db = MongoClient().grasp"
     ],
     "language": "python",
     "metadata": {},
     "outputs": [
      {
       "output_type": "stream",
       "stream": "stdout",
       "text": [
        "Populating the interactive namespace from numpy and matplotlib\n"
       ]
      }
     ],
     "prompt_number": 1
    },
    {
     "cell_type": "code",
     "collapsed": false,
     "input": [
      "# Leave out exercise 'double-elements' since the node version contained an error.\n",
      "exercises = ['align-squares', 'color-left-square', 'order-squares', 'move-squares', 'us-prisoners', 'temperatures']"
     ],
     "language": "python",
     "metadata": {},
     "outputs": [],
     "prompt_number": 2
    },
    {
     "cell_type": "code",
     "collapsed": false,
     "input": [
      "def avg(values):\n",
      "    \"\"\"Calculate the average of a list of values.\"\"\"\n",
      "    if len(values) == 0:\n",
      "        return 0\n",
      "    else:\n",
      "        return sum(values) / len(values)"
     ],
     "language": "python",
     "metadata": {},
     "outputs": [],
     "prompt_number": 3
    },
    {
     "cell_type": "code",
     "collapsed": false,
     "input": [
      "def standard_deviation(values):\n",
      "    \"\"\"Calculate the standard deviation of a list of values.\"\"\"\n",
      "    if len(values) <= 1: return 0\n",
      "    a = avg(values)\n",
      "    return sqrt(sum([pow(v - a, 2) for v in values]) / (len(values) - 1))"
     ],
     "language": "python",
     "metadata": {},
     "outputs": [],
     "prompt_number": 4
    },
    {
     "cell_type": "code",
     "collapsed": false,
     "input": [
      "def confidence_interval(h0, mu, s):\n",
      "    \"\"\"Calculate the confidence interval that nodes are faster than code.\n",
      "    h0 - list of values for the null hypothesis\n",
      "    mu - list of values for the h1 hypothesis\n",
      "    s - standard deviation of the h1 values.\n",
      "    \"\"\"\n",
      "    if s == 0:\n",
      "        return 0\n",
      "    else:\n",
      "        return (mu - h0) / s"
     ],
     "language": "python",
     "metadata": {},
     "outputs": [],
     "prompt_number": 5
    },
    {
     "cell_type": "code",
     "collapsed": false,
     "input": [
      "def table(data, headers):\n",
      "    \"\"\"Display a HTML-formatted table.\"\"\"\n",
      "    from IPython.display import HTML\n",
      "    html = '<table><tr>'\n",
      "    html += ''.join(['<th>%s</th>' % h for h in headers])\n",
      "    html += '</tr>'\n",
      "    for row in data:\n",
      "        html += '<tr>'\n",
      "        for h in headers:\n",
      "            v = row[h]\n",
      "            if isinstance(v, float):\n",
      "                v = '%.2f' % v\n",
      "            html += '<td>%s</td>' % v\n",
      "        html += '</tr>'\n",
      "    html += '<tr>'\n",
      "    html += '</tr></table>'\n",
      "    return HTML(html)"
     ],
     "language": "python",
     "metadata": {},
     "outputs": [],
     "prompt_number": 6
    },
    {
     "cell_type": "code",
     "collapsed": false,
     "input": [
      "# Clean tester data. This removes double exercises and \"weird\" events.\n",
      "g_db.clevents.remove()\n",
      "for tester in g_db.testers.find():\n",
      "    tester_id = str(tester['_id'])\n",
      "    survey = g_db.surveys.find_one({'slug': tester['survey_slug']})\n",
      "    events = list(g_db.events.find({'tester_id': tester_id}))\n",
      "    #print tester_id, survey['slug'], len(events), 'Events'\n",
      "\n",
      "    current_exercise = survey['track'][0]\n",
      "    next_exercise = survey['track'][1]\n",
      "    remaining_exercises = survey['track'][1:]\n",
      "    prev_event = None\n",
      "    over_time = False\n",
      "    for e in events:\n",
      "        if over_time: continue\n",
      "        if 'exercise_id' not in e:\n",
      "            print 'Weird event', e\n",
      "            continue\n",
      "        # Check time between two events\n",
      "        if prev_event is not None:\n",
      "            delta_time = e['time'] - prev_event['time']\n",
      "            if delta_time > 1 * 60 * 60 * 1000: # more than one hour between events.\n",
      "                over_time = True\n",
      "                print 'Survey %s tester %s: too much time between events. (%.2f hrs)' % (survey['slug'], tester['name'], delta_time / 1000 / 60 / 60.0)\n",
      "                continue\n",
      "        if e['exercise_id'] == current_exercise:\n",
      "            del e['_id']\n",
      "            g_db.clevents.save(e)\n",
      "            pass\n",
      "        elif e['exercise_id'] == next_exercise:\n",
      "            del e['_id']\n",
      "            g_db.clevents.save(e)\n",
      "            current_exercise = next_exercise\n",
      "            remaining_exercises = remaining_exercises[1:]\n",
      "            if len(remaining_exercises) > 0:\n",
      "                next_exercise = remaining_exercises[0]\n",
      "            else:\n",
      "                next_exercise = None\n",
      "        else:\n",
      "            pass\n",
      "            #print 'Double exercise', e['exercise_id'], 'expecting', next_exercise\n",
      "        prev_event = e"
     ],
     "language": "python",
     "metadata": {},
     "outputs": [],
     "prompt_number": 7
    },
    {
     "cell_type": "code",
     "collapsed": false,
     "input": [
      "# Remove all existing duration data.\n",
      "g_db.durations.remove()\n",
      "\n",
      "# For each tester...\n",
      "for tester in g_db.testers.find():\n",
      "    tester_id = str(tester['_id'])\n",
      "    survey = g_db.surveys.find_one({'slug': tester['survey_slug']})\n",
      "    # For each exercise in the survey...\n",
      "    for exercise_id in survey['track']:\n",
      "        # Find the first event.\n",
      "        q = {'tester_id': tester_id, 'exercise_id': exercise_id}\n",
      "        start_event = g_db.clevents.find_one(dict(q, event='start'))\n",
      "        if start_event is None:\n",
      "            # print 'Tester %s exercise %s not started.' % (tester_id, exercise_id)\n",
      "            continue\n",
      "        success_event = g_db.clevents.find_one(dict(q, event='success'))\n",
      "        skip_event = g_db.clevents.find_one(dict(q, event='skip'))\n",
      "        end_event = success_event or skip_event\n",
      "        abandoned = False\n",
      "        completed = success_event is not None\n",
      "        if success_event is None and skip_event is None:\n",
      "            # If exercise was unfinished, take the last event.\n",
      "            #print 'Tester %s exercise %s unfinished.' % (tester_id, exercise_id)\n",
      "            end_event = list(g_db.clevents.find(dict(q)))[-1]\n",
      "            abandoned = True\n",
      "            completed = False\n",
      "        duration = end_event['time'] - start_event['time']\n",
      "        if duration > 1 * 60 * 60 * 1000: # More than one hour duration.\n",
      "            print 'Duration too high %s %s %s %.2f hrs' % (survey['slug'], tester['name'], exercise_id, duration / 1000 / 60 / 60.0)\n",
      "        if completed and duration < 1000: # Smaller then one second.\n",
      "            print 'Duration is too low %s %s %s %.2f hrs' % (survey['slug'], tester['name'], exercise_id, duration / 1000 / 60 / 60.0)\n",
      "\n",
      "        # print 'Tester %s exercise %s duration %s' % (tester_id, exercise_id, duration),\n",
      "        g_db.durations.save({'tester_id': tester_id,\n",
      "                             'survey_slug': tester['survey_slug'],\n",
      "                             'method': tester['method'],\n",
      "                             'exercise_id': exercise_id,\n",
      "                             'start_time': start_event['time'],\n",
      "                             'end_time': end_event['time'],\n",
      "                             'duration': duration,\n",
      "                             'completed': completed,\n",
      "                             'abandoned': abandoned})"
     ],
     "language": "python",
     "metadata": {},
     "outputs": [],
     "prompt_number": 8
    },
    {
     "cell_type": "code",
     "collapsed": false,
     "input": [
      "# Sanity check: see if there is duration data.\n",
      "assert g_db.durations.find().count() > 0"
     ],
     "language": "python",
     "metadata": {},
     "outputs": [],
     "prompt_number": 9
    },
    {
     "cell_type": "code",
     "collapsed": false,
     "input": [
      "def how_many_completed(exercise_id, method):\n",
      "    \"\"\"Calculate how many testers completed the given exercise.\"\"\"\n",
      "    return g_db.durations.find({'exercise_id': exercise_id, 'method': method, 'completed': True}).count()"
     ],
     "language": "python",
     "metadata": {},
     "outputs": [],
     "prompt_number": 10
    },
    {
     "cell_type": "code",
     "collapsed": false,
     "input": [
      "def average_time_exercise(exercise_id, method):\n",
      "    \"\"\"Calculate the average time for a certain exercise, in milliseconds.\"\"\"\n",
      "    durations = list(g_db.durations.find({'exercise_id': exercise_id, 'method': method, 'completed': True}))\n",
      "    return avg([d['duration'] for d in durations])"
     ],
     "language": "python",
     "metadata": {},
     "outputs": [],
     "prompt_number": 11
    },
    {
     "cell_type": "code",
     "collapsed": false,
     "input": [
      "def standard_deviation_exercise(exercise_id, method):\n",
      "    \"\"\"Calculate the sample standard deviation for a certain exercise.\"\"\"\n",
      "    durations = list(g_db.durations.find({'exercise_id': exercise_id, 'method': method, 'completed': True}))\n",
      "    return standard_deviation([d['duration'] for d in durations])"
     ],
     "language": "python",
     "metadata": {},
     "outputs": [],
     "prompt_number": 12
    },
    {
     "cell_type": "code",
     "collapsed": false,
     "input": [
      "def confidence_interval_exercise(exercise_id):\n",
      "    \"\"\"Calculate the confidence interval that nodes are faster than code.\"\"\"\n",
      "    h0 = average_time_exercise(exercise_id, 'node')\n",
      "    mu = average_time_exercise(exercise_id, 'code')\n",
      "    s = standard_deviation_exercise(exercise_id, 'code')\n",
      "    return confidence_interval(h0, mu, s)"
     ],
     "language": "python",
     "metadata": {},
     "outputs": [],
     "prompt_number": 13
    },
    {
     "cell_type": "code",
     "collapsed": false,
     "input": [
      "def durations_per_exercise(exercise_id, method):\n",
      "    \"\"\"Show all the durations per exercise.\"\"\"\n",
      "    durations = list(g_db.durations.find({'exercise_id': exercise_id, 'method': method, 'completed': True}))    \n",
      "    return durations"
     ],
     "language": "python",
     "metadata": {},
     "outputs": [],
     "prompt_number": 14
    },
    {
     "cell_type": "code",
     "collapsed": false,
     "input": [
      "def fmt_time(millis):\n",
      "    \"\"\"Format time in milliseconds to mm:ss format.\"\"\"\n",
      "    m, s = divmod(millis / 1000, 60)\n",
      "    return \"%d:%02d\" % (m, s)"
     ],
     "language": "python",
     "metadata": {},
     "outputs": [],
     "prompt_number": 15
    },
    {
     "cell_type": "code",
     "collapsed": false,
     "input": [
      "averages = [{\n",
      "    'exercise_id': ex,\n",
      "    'duration_code': '%s (s=%s)' % (fmt_time(average_time_exercise(ex, 'code')), fmt_time(standard_deviation_exercise(ex, 'code'))),\n",
      "    'duration_nodes': '%s (s=%s)' % (fmt_time(average_time_exercise(ex, 'node')), fmt_time(standard_deviation_exercise(ex, 'node'))),\n",
      "    'time_code': average_time_exercise(ex, 'code') / 1000 / 60.0,\n",
      "    'time_nodes': average_time_exercise(ex, 'node') / 1000 / 60.0,\n",
      "    'count_code': how_many_completed(ex, 'code'),\n",
      "    'count_nodes': how_many_completed(ex, 'node'),\n",
      "    'confidence': confidence_interval_exercise(ex)} for ex in exercises]\n",
      "table(averages, ['exercise_id', 'duration_code', 'duration_nodes', 'count_code', 'count_nodes', 'confidence'])"
     ],
     "language": "python",
     "metadata": {},
     "outputs": [
      {
       "html": [
        "<table><tr><th>exercise_id</th><th>duration_code</th><th>duration_nodes</th><th>count_code</th><th>count_nodes</th><th>confidence</th></tr><tr><td>align-squares</td><td>1:59 (s=1:20)</td><td>2:34 (s=1:36)</td><td>23</td><td>18</td><td>-0.43</td></tr><tr><td>color-left-square</td><td>1:37 (s=1:04)</td><td>5:07 (s=3:45)</td><td>23</td><td>13</td><td>-3.24</td></tr><tr><td>order-squares</td><td>1:26 (s=1:28)</td><td>1:07 (s=0:38)</td><td>23</td><td>18</td><td>0.21</td></tr><tr><td>move-squares</td><td>6:22 (s=10:51)</td><td>7:10 (s=6:42)</td><td>5</td><td>17</td><td>-0.07</td></tr><tr><td>us-prisoners</td><td>6:40 (s=6:10)</td><td>12:45 (s=10:13)</td><td>16</td><td>14</td><td>-0.99</td></tr><tr><td>temperatures</td><td>5:04 (s=5:42)</td><td>9:38 (s=6:35)</td><td>15</td><td>10</td><td>-0.80</td></tr><tr></tr></table>"
       ],
       "metadata": {},
       "output_type": "pyout",
       "prompt_number": 16,
       "text": [
        "<IPython.core.display.HTML at 0x108451210>"
       ]
      }
     ],
     "prompt_number": 16
    },
    {
     "cell_type": "code",
     "collapsed": false,
     "input": [
      "'Total duration (code): %.2f minutes' % sum([a['time_code'] for a in averages])"
     ],
     "language": "python",
     "metadata": {},
     "outputs": [
      {
       "metadata": {},
       "output_type": "pyout",
       "prompt_number": 17,
       "text": [
        "'Total duration (code): 23.13 minutes'"
       ]
      }
     ],
     "prompt_number": 17
    },
    {
     "cell_type": "code",
     "collapsed": false,
     "input": [
      "'Total duration (nodes): %.2f minutes' % sum([a['time_nodes'] for a in averages])"
     ],
     "language": "python",
     "metadata": {},
     "outputs": [
      {
       "metadata": {},
       "output_type": "pyout",
       "prompt_number": 18,
       "text": [
        "'Total duration (nodes): 38.35 minutes'"
       ]
      }
     ],
     "prompt_number": 18
    },
    {
     "cell_type": "code",
     "collapsed": false,
     "input": [
      "total_code = sum([a['time_code'] for a in averages])\n",
      "total_nodes = sum([a['time_nodes'] for a in averages])\n",
      "speedup = (total_nodes / total_code) - 1\n",
      "'Code is %.2f%% faster than nodes.' % (speedup * 100)"
     ],
     "language": "python",
     "metadata": {},
     "outputs": [
      {
       "metadata": {},
       "output_type": "pyout",
       "prompt_number": 19,
       "text": [
        "'Code is 65.78% faster than nodes.'"
       ]
      }
     ],
     "prompt_number": 19
    },
    {
     "cell_type": "code",
     "collapsed": false,
     "input": [
      "def get_durations(exercise_id, method, only_completed=True):\n",
      "    q = {'exercise_id': exercise_id, 'method': method}\n",
      "    if only_completed:\n",
      "        q['completed'] = True\n",
      "    durations = g_db.durations.find(q).sort('duration')\n",
      "    return [d['duration'] / 1000.0 for d in durations]"
     ],
     "language": "python",
     "metadata": {},
     "outputs": [],
     "prompt_number": 20
    },
    {
     "cell_type": "code",
     "collapsed": false,
     "input": [
      "interleaved_durations = []\n",
      "code_durations = [get_durations(e, 'code') for e in exercises]\n",
      "node_durations = [get_durations(e, 'node') for e in exercises]\n",
      "assert len(code_durations) == len(node_durations)\n",
      "for i in range(len(code_durations)):\n",
      "    interleaved_durations.append(code_durations[i])\n",
      "    interleaved_durations.append(node_durations[i])\n",
      "pylab.figure(figsize=(12, 6))\n",
      "bp  = pylab.boxplot(interleaved_durations)\n",
      "pylab.setp(bp['boxes'], color='black')\n",
      "pylab.setp(bp['whiskers'], color='#999999')\n",
      "pylab.setp(bp['medians'], color='#666666')\n",
      "pylab.setp(bp['fliers'], color='#666666')\n",
      "#pylab.title('Duration per exercise in seconds')\n",
      "pylab.ylim([0,2150])\n",
      "\n",
      "tick_ids = []\n",
      "tick_labels = []\n",
      "exercise_codes = ['align', 'color', 'order', 'move', 'map', 'chart']\n",
      "\n",
      "j = 1\n",
      "for i in range(len(exercises)):\n",
      "    code = exercise_codes[i]\n",
      "    tick_ids.append(j)\n",
      "    tick_ids.append(j + 1)\n",
      "    tick_labels.append('%s (T)' % code)\n",
      "    tick_labels.append('%s (V)' % code)\n",
      "    j += 2\n",
      "\n",
      "pylab.xticks(tick_ids, tick_labels)\n",
      "\n",
      "for i, box in enumerate(bp['boxes']):\n",
      "    if i % 2 == 0:\n",
      "        textual_box = box\n",
      "        pylab.setp(box, color='red')\n",
      "    else:\n",
      "        visual_box = box\n",
      "        pylab.setp(box, color='blue')\n",
      "\n",
      "pylab.legend([textual_box, visual_box], ['Textual', 'Visual'], loc=2)\n",
      "\n",
      "#pylab.show()\n",
      "pylab.savefig('durations-boxplot.pdf', bbox_inches='tight')"
     ],
     "language": "python",
     "metadata": {},
     "outputs": [
      {
       "metadata": {},
       "output_type": "display_data",
       "text": [
        "<matplotlib.figure.Figure at 0x1086c7fd0>"
       ]
      }
     ],
     "prompt_number": 24
    },
    {
     "cell_type": "code",
     "collapsed": false,
     "input": [
      "def count_durations(exercise_id, method, **kwargs):\n",
      "    q = {'exercise_id': exercise_id, 'method': method}\n",
      "    q.update(kwargs)\n",
      "    return g_db.durations.find(q).count()"
     ],
     "language": "python",
     "metadata": {},
     "outputs": [],
     "prompt_number": 25
    },
    {
     "cell_type": "code",
     "collapsed": false,
     "input": [
      "def percentage_of_skips(exercise_id, method):\n",
      "    total_count = g_db.durations.find({'exercise_id': exercise_id, 'method': method}).count()\n",
      "    skipped_count = g_db.durations.find({'exercise_id': exercise_id, 'method': method, 'completed': False}).count()\n",
      "    return float(skipped_count) / total_count"
     ],
     "language": "python",
     "metadata": {},
     "outputs": [],
     "prompt_number": 26
    },
    {
     "cell_type": "code",
     "collapsed": false,
     "input": [
      "percentage_of_skips('temperatures', 'node')"
     ],
     "language": "python",
     "metadata": {},
     "outputs": [
      {
       "metadata": {},
       "output_type": "pyout",
       "prompt_number": 27,
       "text": [
        "0.4117647058823529"
       ]
      }
     ],
     "prompt_number": 27
    },
    {
     "cell_type": "code",
     "collapsed": false,
     "input": [
      "def to_percent(y, position):\n",
      "    return '%d%%' % (y * 100)\n",
      "    \n",
      "formatter = FuncFormatter(to_percent)\n",
      "exercise_codes = ['align', 'color', 'order', 'move', 'map', 'chart']\n",
      "\n",
      "exercise_range = numpy.arange(6)\n",
      "pylab.figure(figsize=(10, 3))\n",
      "pylab.bar(exercise_range, [percentage_of_skips(e, 'code') for e in exercises], width=0.3, align='center', color='red', label='Textual')\n",
      "pylab.xticks(exercise_range, exercise_codes)\n",
      "pylab.ylim([0, 1])\n",
      "pylab.gca().yaxis.set_major_formatter(formatter)\n",
      "\n",
      "pylab.bar(exercise_range + 0.35, [percentage_of_skips(e, 'node') for e in exercises], width=0.3, align='center', color='blue', label='Visual')\n",
      "pylab.xticks(exercise_range, exercise_codes)\n",
      "pylab.ylim([0, 1])\n",
      "pylab.gca().yaxis.set_major_formatter(formatter)\n",
      "\n",
      "legend(loc=2)\n",
      "\n",
      "pylab.savefig('skips.pdf', bbox_inches='tight')"
     ],
     "language": "python",
     "metadata": {},
     "outputs": [
      {
       "metadata": {},
       "output_type": "display_data",
       "text": [
        "<matplotlib.figure.Figure at 0x1086e83d0>"
       ]
      }
     ],
     "prompt_number": 43
    },
    {
     "cell_type": "code",
     "collapsed": false,
     "input": [
      "def skips_per_method(method):\n",
      "    return g_db.durations.find({'method': method, 'completed': False, 'abandoned': False}).count()"
     ],
     "language": "python",
     "metadata": {},
     "outputs": [],
     "prompt_number": 29
    },
    {
     "cell_type": "code",
     "collapsed": false,
     "input": [
      "[skips_per_method('code'), skips_per_method('node')]"
     ],
     "language": "python",
     "metadata": {},
     "outputs": [
      {
       "metadata": {},
       "output_type": "pyout",
       "prompt_number": 30,
       "text": [
        "[26, 24]"
       ]
      }
     ],
     "prompt_number": 30
    },
    {
     "cell_type": "code",
     "collapsed": false,
     "input": [
      "def average_skips_per_method(method):\n",
      "    \"\"\"Average number of skips per tester, per method.\"\"\"\n",
      "    testers = list(g_db.testers.find({'method': method}))\n",
      "    skips_per_tester = []\n",
      "    for tester in testers:\n",
      "        skips_per_tester.append(g_db.durations.find({'tester_id': str(tester['_id']), 'completed': False, 'abandoned': False}).count())\n",
      "    return avg([float(s) for s in skips_per_tester])"
     ],
     "language": "python",
     "metadata": {},
     "outputs": [],
     "prompt_number": 31
    },
    {
     "cell_type": "code",
     "collapsed": false,
     "input": [
      "\"Average skips for code: %.2f\" % average_skips_per_method('code')"
     ],
     "language": "python",
     "metadata": {},
     "outputs": [
      {
       "metadata": {},
       "output_type": "pyout",
       "prompt_number": 32,
       "text": [
        "'Average skips for code: 1.13'"
       ]
      }
     ],
     "prompt_number": 32
    },
    {
     "cell_type": "code",
     "collapsed": false,
     "input": [
      "\"Average skips for node: %.2f\" % average_skips_per_method('node')"
     ],
     "language": "python",
     "metadata": {},
     "outputs": [
      {
       "metadata": {},
       "output_type": "pyout",
       "prompt_number": 33,
       "text": [
        "'Average skips for node: 1.14'"
       ]
      }
     ],
     "prompt_number": 33
    },
    {
     "cell_type": "code",
     "collapsed": false,
     "input": [
      "def non_skippers(method):\n",
      "    \"\"\"How many people did not use the skip function?\"\"\"\n",
      "    testers = list(g_db.testers.find({'method': method}))\n",
      "    s = 0\n",
      "    for tester in testers:\n",
      "        if g_db.durations.find({'tester_id': str(tester['_id']), 'completed': False, 'abandoned': False}).count() == 0:\n",
      "            s += 1\n",
      "    return s"
     ],
     "language": "python",
     "metadata": {},
     "outputs": [],
     "prompt_number": 34
    },
    {
     "cell_type": "code",
     "collapsed": false,
     "input": [
      "non_skippers('code')"
     ],
     "language": "python",
     "metadata": {},
     "outputs": [
      {
       "metadata": {},
       "output_type": "pyout",
       "prompt_number": 35,
       "text": [
        "9"
       ]
      }
     ],
     "prompt_number": 35
    },
    {
     "cell_type": "code",
     "collapsed": false,
     "input": [
      "non_skippers('node')"
     ],
     "language": "python",
     "metadata": {},
     "outputs": [
      {
       "metadata": {},
       "output_type": "pyout",
       "prompt_number": 36,
       "text": [
        "7"
       ]
      }
     ],
     "prompt_number": 36
    },
    {
     "cell_type": "code",
     "collapsed": false,
     "input": [
      "def skips_per_user():\n",
      "    testers = list(g_db.testers.find().sort('method'))\n",
      "    skip_table = []\n",
      "    for tester in testers:\n",
      "        skips = g_db.durations.find({'tester_id': str(tester['_id']), 'completed': False, 'abandoned': False}).count()\n",
      "        skip_table.append({'tester': tester['_id'], 'method': tester['method'], 'skips': skips})\n",
      "    return skip_table"
     ],
     "language": "python",
     "metadata": {},
     "outputs": [],
     "prompt_number": 40
    },
    {
     "cell_type": "code",
     "collapsed": false,
     "input": [
      "table(skips_per_user(), ['tester', 'method', 'skips'])"
     ],
     "language": "python",
     "metadata": {},
     "outputs": [
      {
       "html": [
        "<table><tr><th>tester</th><th>method</th><th>skips</th></tr><tr><td>517eb3f90c1b634db2e54922</td><td>code</td><td>0</td></tr><tr><td>517eb4000c1b634db2e54923</td><td>code</td><td>1</td></tr><tr><td>517eb4060c1b634db15eb46f</td><td>code</td><td>0</td></tr><tr><td>517eb40c0c1b634db2e54924</td><td>code</td><td>2</td></tr><tr><td>517eb4110c1b634db15eb470</td><td>code</td><td>3</td></tr><tr><td>517eb4190c1b634db15eb471</td><td>code</td><td>3</td></tr><tr><td>517eb4230c1b634db2e54925</td><td>code</td><td>1</td></tr><tr><td>517eb4290c1b634db2e54926</td><td>code</td><td>1</td></tr><tr><td>517eb4300c1b634db15eb472</td><td>code</td><td>0</td></tr><tr><td>517eb4360c1b634db15eb473</td><td>code</td><td>1</td></tr><tr><td>517eb43c0c1b634db2e54927</td><td>code</td><td>2</td></tr><tr><td>517eb7500c1b634db15eb47a</td><td>code</td><td>0</td></tr><tr><td>517ec9330c1b634db2e56ed2</td><td>code</td><td>0</td></tr><tr><td>5279ff5e0c1b636c29e6ff7f</td><td>code</td><td>1</td></tr><tr><td>5279ff7e0c1b636c29e6ff80</td><td>code</td><td>0</td></tr><tr><td>5279ffe50c1b636c2aaedf87</td><td>code</td><td>0</td></tr><tr><td>5279ffed0c1b636c2aaedf88</td><td>code</td><td>0</td></tr><tr><td>5279ffff0c1b636c29e6ffbc</td><td>code</td><td>3</td></tr><tr><td>527a00150c1b636c2aaedfb3</td><td>code</td><td>1</td></tr><tr><td>527a00190c1b636c29e6ffdd</td><td>code</td><td>1</td></tr><tr><td>527a00620c1b636c2aaee004</td><td>code</td><td>3</td></tr><tr><td>527a00700c1b636c2aaee016</td><td>code</td><td>3</td></tr><tr><td>527a00ac0c1b636c29e700ae</td><td>code</td><td>0</td></tr><tr><td>517eb4430c1b634db2e54928</td><td>node</td><td>1</td></tr><tr><td>517eb4490c1b634db15eb474</td><td>node</td><td>3</td></tr><tr><td>517eb44f0c1b634db2e54929</td><td>node</td><td>3</td></tr><tr><td>517eb4540c1b634db15eb475</td><td>node</td><td>1</td></tr><tr><td>517eb4590c1b634db15eb476</td><td>node</td><td>0</td></tr><tr><td>517eb45f0c1b634db2e5492a</td><td>node</td><td>1</td></tr><tr><td>517eb4640c1b634db15eb477</td><td>node</td><td>1</td></tr><tr><td>517eb4690c1b634db2e5492b</td><td>node</td><td>2</td></tr><tr><td>517eb46f0c1b634db2e5492c</td><td>node</td><td>2</td></tr><tr><td>517eb4740c1b634db15eb478</td><td>node</td><td>2</td></tr><tr><td>517eb47a0c1b634db15eb479</td><td>node</td><td>0</td></tr><tr><td>5279ffa80c1b636c2aaedf6c</td><td>node</td><td>2</td></tr><tr><td>5279ffaa0c1b636c29e6ff8f</td><td>node</td><td>0</td></tr><tr><td>5279ffff0c1b636c29e6ffbb</td><td>node</td><td>1</td></tr><tr><td>527a00070c1b636c29e6ffc8</td><td>node</td><td>3</td></tr><tr><td>527a000f0c1b636c2aaedfac</td><td>node</td><td>1</td></tr><tr><td>527a00170c1b636c2aaedfb9</td><td>node</td><td>1</td></tr><tr><td>527a002b0c1b636c29e6ffe9</td><td>node</td><td>0</td></tr><tr><td>527a002f0c1b636c29e6ffec</td><td>node</td><td>0</td></tr><tr><td>527a004b0c1b636c29e70005</td><td>node</td><td>0</td></tr><tr><td>527a00530c1b636c2aaedfec</td><td>node</td><td>0</td></tr><tr></tr></table>"
       ],
       "metadata": {},
       "output_type": "pyout",
       "prompt_number": 41,
       "text": [
        "<IPython.core.display.HTML at 0x1086e4c10>"
       ]
      }
     ],
     "prompt_number": 41
    },
    {
     "cell_type": "code",
     "collapsed": false,
     "input": [
      "code_completed = g_db.durations.find({'exercise_id': 'move-squares', 'method': 'code', 'completed': True}).count()\n",
      "code_count = g_db.durations.find({'exercise_id': 'move-squares', 'method': 'code'}).count()\n",
      "node_completed = g_db.durations.find({'exercise_id': 'move-squares', 'method': 'node', 'completed': True}).count()\n",
      "node_count = g_db.durations.find({'exercise_id': 'move-squares', 'method': 'node'}).count()\n",
      "'%s/%s with code, %s/%s with nodes' % (code_completed, code_count, node_completed, node_count)"
     ],
     "language": "python",
     "metadata": {},
     "outputs": [
      {
       "metadata": {},
       "output_type": "pyout",
       "prompt_number": 42,
       "text": [
        "'5/23 with code, 17/19 with nodes'"
       ]
      }
     ],
     "prompt_number": 42
    },
    {
     "cell_type": "code",
     "collapsed": false,
     "input": [],
     "language": "python",
     "metadata": {},
     "outputs": []
    }
   ],
   "metadata": {}
  }
 ]
}